{
  "nbformat": 4,
  "nbformat_minor": 0,
  "metadata": {
    "interpreter": {
      "hash": "31f2aee4e71d21fbe5cf8b01ff0e069b9275f58929596ceb00d14d90e3e16cd6"
    },
    "kernelspec": {
      "display_name": "Python 3",
      "language": "python",
      "name": "python3"
    },
    "language_info": {
      "codemirror_mode": {
        "name": "ipython",
        "version": 3
      },
      "file_extension": ".py",
      "mimetype": "text/x-python",
      "name": "python",
      "nbconvert_exporter": "python",
      "pygments_lexer": "ipython3",
      "version": "3.6.9"
    },
    "colab": {
      "name": "optimizacion_usando_el_gradiente_descendente.ipynb",
      "provenance": [],
      "include_colab_link": true
    }
  },
  "cells": [
    {
      "cell_type": "markdown",
      "metadata": {
        "id": "view-in-github",
        "colab_type": "text"
      },
      "source": [
        "<a href=\"https://colab.research.google.com/github/alemando/redesNeuronales/blob/main/notebooks/ml_fundamentals/optimizacion_usando_el_gradiente_descendente.ipynb\" target=\"_parent\"><img src=\"https://colab.research.google.com/assets/colab-badge.svg\" alt=\"Open In Colab\"/></a>"
      ]
    },
    {
      "cell_type": "markdown",
      "metadata": {
        "toc-hr-collapsed": false,
        "id": "dZe7Wzwofj-y"
      },
      "source": [
        "Optimización usando el gradiente descendente\n",
        "==="
      ]
    },
    {
      "cell_type": "code",
      "metadata": {
        "id": "4yMfZWQ7fj-z",
        "outputId": "3a88c6be-d8a2-41b5-9617-6c7c1bf30375",
        "colab": {
          "base_uri": "https://localhost:8080/"
        }
      },
      "source": [
        "#\n",
        "# A partir del código suministrado, determine la solucion encontrada y el valor\n",
        "# de la función de Rosenbrock para 100, 500, 1000, 2000 y 3000 iteraciones \n",
        "# partiendo siempre del mismo punto de arranque con coordenadas x = -0.5 y\n",
        "# y = 3.5. Use pandas para construir la tabla e imprimirla (use print).\n",
        "#\n",
        "# Rta/\n",
        "#    Iterations         x         y    f(x,y)\n",
        "# 0         100 -1.436412  2.070779  5.941728\n",
        "# 1         500 -1.203561  1.456364  4.861773\n",
        "# 2        1000 -0.807119  0.659530  3.272222\n",
        "# 3        2000  0.499842  0.247335  0.250787\n",
        "# 4        3000  0.761484  0.578762  0.057010\n",
        "#\n",
        "\n",
        "import numpy as np\n",
        "import pandas as pd\n",
        "\n",
        "def f(x, y):\n",
        "    return 100 * (x ** 2 - y) ** 2 + (1 - x) ** 2\n",
        "\n",
        "def g(x, y):\n",
        "    gx = 400 * x * (x ** 2 - y) - 2 * (1 - x)\n",
        "    gy = -200 * (x ** 2 - y)\n",
        "    return (gx, gy)\n",
        "\n",
        "def improve(x, y, mu):\n",
        "    gx, gy = g(x, y)\n",
        "    x = x - mu * gx\n",
        "    y = y - mu * gy\n",
        "    return (x, y)\n",
        "\n",
        "\n",
        "# Punto de inicio\n",
        "x = -0.5\n",
        "y = +3.5\n",
        "\n",
        "# Almacena la historia de los puntos recorridos\n",
        "history_x = [x]\n",
        "history_y = [y]\n",
        "history_f = [f(x, y)]\n",
        "\n",
        "# ---->>> Inserte su codigo aquí ---->>>\n",
        "\n",
        "valores = []\n",
        "\n",
        "for epoch in range(1, 30001):\n",
        "    x, y = improve(x, y, 0.001)\n",
        "    history_x.append(x)\n",
        "    history_y.append(y)\n",
        "    history_f.append(f(x, y))\n",
        "    if epoch == 100:\n",
        "      valores.append([100, x, y, f(x, y)])\n",
        "    elif epoch == 500:\n",
        "      valores.append([500, x, y, f(x, y)])\n",
        "    elif epoch == 1000:\n",
        "      valores.append([1000, x, y, f(x, y)])\n",
        "    elif epoch == 2000:\n",
        "      valores.append([2000, x, y, f(x, y)])\n",
        "    elif epoch == 3000:\n",
        "      valores.append([3000, x, y, f(x, y)])\n",
        "\n",
        "\n",
        "df1 = pd.DataFrame(valores, columns=['Iterations', 'x', 'y', 'f(x,y)'])\n",
        "print(df1)\n",
        "\n",
        "# ---->>> Evaluación ---->>>\n",
        "for epoch in range(100):\n",
        "    x, y = improve(x, y, 0.001)\n",
        "    history_x.append(x)\n",
        "    history_y.append(y)\n",
        "    history_f.append(f(x, y))\n",
        "\n"
      ],
      "execution_count": 16,
      "outputs": [
        {
          "output_type": "stream",
          "text": [
            "   Iterations         x         y    f(x,y)\n",
            "0         100 -1.436412  2.070779  5.941728\n",
            "1         500 -1.203561  1.456364  4.861773\n",
            "2        1000 -0.807119  0.659530  3.272222\n",
            "3        2000  0.499842  0.247335  0.250787\n",
            "4        3000  0.761484  0.578762  0.057010\n"
          ],
          "name": "stdout"
        }
      ]
    }
  ]
}