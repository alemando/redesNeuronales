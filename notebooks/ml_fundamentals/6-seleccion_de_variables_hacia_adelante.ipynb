{
  "nbformat": 4,
  "nbformat_minor": 0,
  "metadata": {
    "kernelspec": {
      "display_name": "Python 3",
      "language": "python",
      "name": "python3"
    },
    "language_info": {
      "codemirror_mode": {
        "name": "ipython",
        "version": 3
      },
      "file_extension": ".py",
      "mimetype": "text/x-python",
      "name": "python",
      "nbconvert_exporter": "python",
      "pygments_lexer": "ipython3",
      "version": "3.6.9"
    },
    "colab": {
      "name": "seleccion_de_variables_hacia_adelante.ipynb",
      "provenance": [],
      "include_colab_link": true
    }
  },
  "cells": [
    {
      "cell_type": "markdown",
      "metadata": {
        "id": "view-in-github",
        "colab_type": "text"
      },
      "source": [
        "<a href=\"https://colab.research.google.com/github/alemando/redesNeuronales/blob/main/notebooks/ml_fundamentals/seleccion_de_variables_hacia_adelante.ipynb\" target=\"_parent\"><img src=\"https://colab.research.google.com/assets/colab-badge.svg\" alt=\"Open In Colab\"/></a>"
      ]
    },
    {
      "cell_type": "markdown",
      "metadata": {
        "toc-hr-collapsed": false,
        "id": "DRI_2TGl6fV4"
      },
      "source": [
        "Selección de variables hacia adelante -forward-.\n",
        "==="
      ]
    },
    {
      "cell_type": "code",
      "metadata": {
        "id": "2yciYzmY6fV6",
        "outputId": "fe32b087-a44a-43f4-a41d-caac1a778668",
        "colab": {
          "base_uri": "https://localhost:8080/"
        }
      },
      "source": [
        "#\n",
        "# El siguiente código genera una matriz de 10 variables\n",
        "# independientes, de las cuales únicamente las primeras\n",
        "# dos son informativas. Escriba un programa que implemente\n",
        "# el algoritmo de selección forward y apliquelo al dataset.\n",
        "# Use el criterio de selección de Akaike para determinar la\n",
        "# importancia de las variables.\n",
        "#\n",
        "# Imprima los índices de las columnas relevantes.\n",
        "#\n",
        "# Rta/\n",
        "# 0\n",
        "# 1\n",
        "# 8\n",
        "import warnings\n",
        "\n",
        "import numpy as np\n",
        "import statsmodels.api as sm\n",
        "from sklearn.datasets import make_regression\n",
        "\n",
        "warnings.filterwarnings(\"ignore\")\n",
        "np.random.seed(12345)\n",
        "\n",
        "X, d = make_regression(\n",
        "    n_samples=200,\n",
        "    n_features=10,\n",
        "    n_informative=2,\n",
        "    bias=0.0,  # intercepto\n",
        "    effective_rank=None,  # numero de vectores singulares para explicar los datos\n",
        "    tail_strength=0.9,  # ? importancia relativa de las colas\n",
        "    noise=12.0,\n",
        "        shuffle=False,  # ?\n",
        "    coef=False,  # ?coeficientes de la regresion\n",
        "    random_state=12136,\n",
        ")\n",
        "\n",
        "# ---->>> Inserte su codigo aquí ---->>>\n",
        "\n",
        "xi =  list(range(10))\n",
        "xmin = []\n",
        "minimo = 0\n",
        "for i in range(10):\n",
        "  auxxi = [xmin + [j] for j in xi]\n",
        "  AICS = [sm.OLS(d, X[:, cols]).fit().aic for cols in auxxi]\n",
        "  new_minimo = min(AICS)\n",
        "\n",
        "  if i == 0:\n",
        "    xmin.append(xi.pop(AICS.index(new_minimo)))\n",
        "    minimo = new_minimo\n",
        "  else:\n",
        "    if (new_minimo < minimo):\n",
        "      xmin.append(xi.pop(AICS.index(new_minimo)))\n",
        "      minimo = new_minimo\n",
        "    else:\n",
        "      break\n",
        "  \n",
        "\n",
        "print(\"Indices: \",xmin)\n",
        "\n",
        "# ---->>> Evaluación ---->>>"
      ],
      "execution_count": 31,
      "outputs": [
        {
          "output_type": "stream",
          "text": [
            "Indices:  [1, 0, 8]\n"
          ],
          "name": "stdout"
        }
      ]
    }
  ]
}