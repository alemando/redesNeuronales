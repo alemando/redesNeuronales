{
  "nbformat": 4,
  "nbformat_minor": 0,
  "metadata": {
    "kernel_info": {
      "name": "python3"
    },
    "kernelspec": {
      "display_name": "Python 3",
      "language": "python",
      "name": "python3"
    },
    "language_info": {
      "codemirror_mode": {
        "name": "ipython",
        "version": 3
      },
      "file_extension": ".py",
      "mimetype": "text/x-python",
      "name": "python",
      "nbconvert_exporter": "python",
      "pygments_lexer": "ipython3",
      "version": "3.6.9"
    },
    "nteract": {
      "version": "0.7.1"
    },
    "varInspector": {
      "cols": {
        "lenName": 16,
        "lenType": 16,
        "lenVar": 40
      },
      "kernels_config": {
        "python": {
          "delete_cmd_postfix": "",
          "delete_cmd_prefix": "del ",
          "library": "var_list.py",
          "varRefreshCmd": "print(var_dic_list())"
        },
        "r": {
          "delete_cmd_postfix": ") ",
          "delete_cmd_prefix": "rm(",
          "library": "var_list.r",
          "varRefreshCmd": "cat(var_dic_list()) "
        }
      },
      "types_to_exclude": [
        "module",
        "function",
        "builtin_function_or_method",
        "instance",
        "_Feature"
      ],
      "window_display": false
    },
    "colab": {
      "name": "prediccion_de_la_evolucion_de_la_diabetes_usando_mlp.ipynb",
      "provenance": [],
      "include_colab_link": true
    }
  },
  "cells": [
    {
      "cell_type": "markdown",
      "metadata": {
        "id": "view-in-github",
        "colab_type": "text"
      },
      "source": [
        "<a href=\"https://colab.research.google.com/github/alemando/redesNeuronales/blob/main/notebooks/16-prediccion_de_la_evolucion_de_la_diabetes_usando_mlp.ipynb\" target=\"_parent\"><img src=\"https://colab.research.google.com/assets/colab-badge.svg\" alt=\"Open In Colab\"/></a>"
      ]
    },
    {
      "cell_type": "markdown",
      "metadata": {
        "id": "Lzee2vSSC3ln"
      },
      "source": [
        "Predicción de la evolución de la diabetes en pacientes usando MLP\n",
        "==="
      ]
    },
    {
      "cell_type": "markdown",
      "metadata": {
        "id": "bCC5G2x0C3lq"
      },
      "source": [
        "Se desea construir um modelo de regresión no lineal (redes neuronales artificiales) que permita pronósticar el progreso de la diabetes con un horizonte de doce meses con base en variables físicas y pruebas de laboratorio. Véase https://www4.stat.ncsu.edu/~boos/var.select/diabetes.html"
      ]
    },
    {
      "cell_type": "markdown",
      "metadata": {
        "id": "RBb_-vr_C3lq"
      },
      "source": [
        "En este problema se tiene una base de datos de diez variables base (edad, sexo, índice de masa corporal, presión arterial, y seis variables medidas en sangre) para 442 pacientes, y un índice que mide el progreso de la diabetes un año después de la prueba. La columna Y es la variable explicada."
      ]
    },
    {
      "cell_type": "code",
      "metadata": {
        "id": "z2t2iQNbC3lr"
      },
      "source": [
        "#\n",
        "# La muestra se encuentra dividida en tres partes:\n",
        "#\n",
        "#   * X_fit, y_true_fit: es la muestra para estimar los parametros optimos\n",
        "#\n",
        "#   * X_test, y_true_test: es la muestra para seleccionar la mejor configuración\n",
        "#\n",
        "#   * X_val, y_true_val: es la muestra para probar el modelo en productivo\n",
        "#\n",
        "import warnings\n",
        "\n",
        "import pandas as pd\n",
        "import pytest\n",
        "from sklearn.neural_network import MLPRegressor\n",
        "from sklearn.metrics import mean_squared_error\n",
        "\n",
        "warnings.filterwarnings(\"ignore\")\n",
        "\n",
        "df = pd.read_csv(\"https://raw.githubusercontent.com/jdvelasq/datalabs/master/datasets/diabetes.csv\")\n",
        "\n",
        "\n",
        "y_true = df.pop('Y')\n",
        "y_true_fit = df[:350]\n",
        "y_true_test = df[350:400]\n",
        "y_true_val = df[400:]\n",
        "\n",
        "X_fit = df[:350]\n",
        "X_test = df[350:400]\n",
        "X_val = df[400:]"
      ],
      "execution_count": 2,
      "outputs": []
    },
    {
      "cell_type": "code",
      "metadata": {
        "id": "CyYPGk90C3ls",
        "outputId": "4f61cab6-1284-48e1-a8bf-c298b1ecd764",
        "colab": {
          "base_uri": "https://localhost:8080/"
        }
      },
      "source": [
        "#\n",
        "# Use la muestra (X_train, y_true_train) para la estimación\n",
        "# de los pesos óptimos de la red neuronal.\n",
        "#\n",
        "# Seleccione el modelo óptimo como aquel que minimice el error\n",
        "# cuadrático medio para la muestra (X_test, y_true_test).\n",
        "#\n",
        "# Considere únicamente modelos desde una (1) hasta (5) \n",
        "# neuronas en la capa oculta. Considere únicamente las\n",
        "# siguientes semillas para inicializar la red neuronal\n",
        "# 1000, 1001, 1002, 1003, 1004, 1005.\n",
        "#\n",
        "# Compute el error cuadrático medio para la muestra\n",
        "# (X_val, y_true_val). Esta muestra representa la operación\n",
        "# del modelo en productio\n",
        "# \n",
        "# Rta/\n",
        "# True\n",
        "#\n",
        "\n",
        "# >>> Inserte su codigo aquí >>>\n",
        "mse_val = 1\n",
        "for r in range(1000,1006):\n",
        "  for n in range(1, 6):\n",
        "    classiffier = MLPRegressor(random_state=r, hidden_layer_sizes=(10,n)).fit(X_fit, y_true_fit)\n",
        "    predictions = classiffier.predict(X_test)\n",
        "    \n",
        "    precision = mean_squared_error(y_true_test, predictions)\n",
        "    print(precision)\n",
        "    if (mse_val > precision):\n",
        "      mse_val = precision\n",
        "print(pytest.approx(mse_val, 0.0001))\n",
        "# ---->>> Evaluación ---->>>\n",
        "pytest.approx(mse_val, 0.0001) == 0.009535"
      ],
      "execution_count": 4,
      "outputs": [
        {
          "output_type": "stream",
          "name": "stdout",
          "text": [
            "0.03023810830484907\n",
            "0.038613309784810555\n",
            "0.00781952798371482\n",
            "0.034852747495002764\n",
            "0.005930449488922221\n",
            "0.016778504291201687\n",
            "0.035691265099966944\n",
            "0.016502926795174212\n",
            "0.01828448525385077\n",
            "0.011083841244363327\n",
            "0.037876379361263854\n",
            "0.03899755541531029\n",
            "0.004565199223929807\n",
            "0.0041438016179085385\n",
            "0.0021385979982048746\n",
            "0.03004341515347128\n",
            "0.024338904557573267\n",
            "0.030599846187887924\n",
            "0.005887095855011226\n",
            "0.010559401285789374\n",
            "0.024382579264497148\n",
            "0.00380872444345964\n",
            "0.03452134286033341\n",
            "0.008345214608303713\n",
            "0.026738263443506317\n",
            "0.030922247609056853\n",
            "0.020535239860346964\n",
            "0.03566186238833717\n",
            "0.00574037664696266\n",
            "0.004490284736858488\n",
            "0.0021385979982048746 ± 2.1e-07\n"
          ]
        },
        {
          "output_type": "execute_result",
          "data": {
            "text/plain": [
              "False"
            ]
          },
          "metadata": {},
          "execution_count": 4
        }
      ]
    }
  ]
}